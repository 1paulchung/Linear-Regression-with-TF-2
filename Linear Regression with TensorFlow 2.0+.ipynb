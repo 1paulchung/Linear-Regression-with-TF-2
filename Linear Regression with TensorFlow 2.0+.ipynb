{
 "cells": [
  {
   "cell_type": "code",
   "execution_count": 1,
   "metadata": {},
   "outputs": [],
   "source": [
    "from __future__ import absolute_import, division, print_function"
   ]
  },
  {
   "cell_type": "code",
   "execution_count": 2,
   "metadata": {},
   "outputs": [],
   "source": [
    "import tensorflow as tf\n",
    "import numpy as np\n",
    "rng = np.random"
   ]
  },
  {
   "cell_type": "code",
   "execution_count": 3,
   "metadata": {},
   "outputs": [],
   "source": [
    "# Parameters\n",
    "learning_rate = 0.01\n",
    "training_steps = 1000\n",
    "display_step = 50"
   ]
  },
  {
   "cell_type": "code",
   "execution_count": 4,
   "metadata": {},
   "outputs": [],
   "source": [
    "# Training Data\n",
    "X = np.array([3.3,4.4,5.5,6.71,6.93,4.168,9.779,6.182,7.59,2.167,\n",
    "              7.042,10.791,5.313,7.997,5.654,9.27,3.1])\n",
    "Y = np.array([1.7,2.76,2.09,3.19,1.694,1.573,3.366,2.596,2.53,1.221,\n",
    "              2.827,3.465,1.65,2.904,2.42,2.94,1.3])"
   ]
  },
  {
   "cell_type": "code",
   "execution_count": 5,
   "metadata": {},
   "outputs": [],
   "source": [
    "# Weight and Bias, initialized randomly\n",
    "W = tf.Variable(rng.randn(), name=\"weight\")\n",
    "b = tf.Variable(rng.randn(), name=\"bias\")\n",
    "\n",
    "# Linear regression (Wx + b)\n",
    "def linear_regression(x):\n",
    "    return W * x + b\n",
    "\n",
    "# Mean square error\n",
    "def mean_square(y_pred, y_true):\n",
    "    return tf.reduce_mean(tf.square(y_pred - y_true))\n",
    "\n",
    "# Stochastic Gradient Descent Optimizer\n",
    "optimizer = tf.optimizers.SGD(learning_rate)"
   ]
  },
  {
   "cell_type": "code",
   "execution_count": 6,
   "metadata": {},
   "outputs": [],
   "source": [
    "# Optimization process\n",
    "def run_optimization():\n",
    "    # Wrap computation inside a GradientTape for automatic differentiation\n",
    "    with tf.GradientTape() as g:\n",
    "        pred = linear_regression(X)\n",
    "        loss = mean_square(pred, Y)\n",
    "        \n",
    "    # Compute gradients\n",
    "    gradients = g.gradient(loss, [W, b])\n",
    "    \n",
    "    # Update W and b following gradients\n",
    "    optimizer.apply_gradients(zip(gradients, [W, b]))"
   ]
  },
  {
   "cell_type": "code",
   "execution_count": 8,
   "metadata": {},
   "outputs": [
    {
     "name": "stdout",
     "output_type": "stream",
     "text": [
      "step: 50, loss: 0.269329, W: 0.387862, b: -0.166985\n",
      "step: 100, loss: 0.244413, W: 0.372272, b: -0.056464\n",
      "step: 150, loss: 0.224874, W: 0.358467, b: 0.041409\n",
      "step: 200, loss: 0.209550, W: 0.346242, b: 0.128082\n",
      "step: 250, loss: 0.197533, W: 0.335415, b: 0.204836\n",
      "step: 300, loss: 0.188109, W: 0.325828, b: 0.272807\n",
      "step: 350, loss: 0.180718, W: 0.317337, b: 0.333000\n",
      "step: 400, loss: 0.174922, W: 0.309819, b: 0.386304\n",
      "step: 450, loss: 0.170377, W: 0.303160, b: 0.433509\n",
      "step: 500, loss: 0.166813, W: 0.297264, b: 0.475311\n",
      "step: 550, loss: 0.164017, W: 0.292042, b: 0.512330\n",
      "step: 600, loss: 0.161825, W: 0.287418, b: 0.545113\n",
      "step: 650, loss: 0.160106, W: 0.283323, b: 0.574144\n",
      "step: 700, loss: 0.158758, W: 0.279697, b: 0.599853\n",
      "step: 750, loss: 0.157700, W: 0.276486, b: 0.622620\n",
      "step: 800, loss: 0.156871, W: 0.273642, b: 0.642781\n",
      "step: 850, loss: 0.156221, W: 0.271124, b: 0.660635\n",
      "step: 900, loss: 0.155711, W: 0.268893, b: 0.676446\n",
      "step: 950, loss: 0.155311, W: 0.266918, b: 0.690448\n",
      "step: 1000, loss: 0.154997, W: 0.265169, b: 0.702848\n"
     ]
    }
   ],
   "source": [
    "# Run training for the given number of steps\n",
    "for step in range(1, training_steps + 1):\n",
    "    # Run the optimization to update W and b values\n",
    "    run_optimization()\n",
    "    \n",
    "    if step % display_step == 0:\n",
    "        pred = linear_regression(X)\n",
    "        loss = mean_square(pred, Y)\n",
    "        print(\"step: %i, loss: %f, W: %f, b: %f\" % (step, loss, W.numpy(), b.numpy()))"
   ]
  },
  {
   "cell_type": "code",
   "execution_count": 9,
   "metadata": {},
   "outputs": [],
   "source": [
    "import matplotlib.pyplot as plt"
   ]
  },
  {
   "cell_type": "code",
   "execution_count": 11,
   "metadata": {},
   "outputs": [
    {
     "data": {
      "image/png": "[encoded data removed]",
      "text/plain": [
       "<Figure size 432x288 with 1 Axes>"
      ]
     },
     "metadata": {
      "needs_background": "light"
     },
     "output_type": "display_data"
    }
   ],
   "source": [
    "# Graphic display\n",
    "plt.plot(X, Y, 'ro', label='Original data')\n",
    "plt.plot(X, np.array(W * X + b), label='Fitted line')\n",
    "plt.legend()\n",
    "plt.show()"
   ]
  },
  {
   "cell_type": "code",
   "execution_count": null,
   "metadata": {},
   "outputs": [],
   "source": []
  }
 ],
 "metadata": {
  "kernelspec": {
   "display_name": "Python 3",
   "language": "python",
   "name": "python3"
  },
  "language_info": {
   "codemirror_mode": {
    "name": "ipython",
    "version": 3
   },
   "file_extension": ".py",
   "mimetype": "text/x-python",
   "name": "python",
   "nbconvert_exporter": "python",
   "pygments_lexer": "ipython3",
   "version": "3.8.5"
  }
 },
 "nbformat": 4,
 "nbformat_minor": 4
}
